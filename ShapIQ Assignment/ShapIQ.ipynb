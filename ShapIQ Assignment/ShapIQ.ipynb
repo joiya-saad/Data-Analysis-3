{
 "cells": [
  {
   "cell_type": "markdown",
   "id": "54e8aeec-1a68-4c6b-97fc-5f39b503e9e1",
   "metadata": {},
   "source": [
    "# <center><font color='magenta'>**DA3**</font></center>\n",
    "# <center><font color='blue'>**Extra Assignment**</font></center>\n",
    "# <center><font color='green'>**ShapIQ**</font></center>"
   ]
  },
  {
   "cell_type": "markdown",
   "id": "74990ad4-115e-4583-a41a-3e87cf0c4ccf",
   "metadata": {},
   "source": [
    "<span style=\"font-size: 18px;\">**2300715 - Saad Joiya**"
   ]
  },
  {
   "cell_type": "markdown",
   "id": "2cc69e5e-6787-4c51-9962-42767117cb60",
   "metadata": {},
   "source": [
    "<span style=\"font-size: 18px;\">**ShapIQ is a Python library designed to provide advanced tools for interpretable machine learning, focusing on Shapley values and Shapley interaction values. It helps explain and visualize the behavior of complex machine learning models by quantifying the contribution of each feature to individual predictions. The goal is to make machine learning models more transparent and understandable.**"
   ]
  },
  {
   "cell_type": "markdown",
   "id": "9a8afd71-d340-4a2a-8cd8-edeaeab0a45d",
   "metadata": {
    "jp-MarkdownHeadingCollapsed": true
   },
   "source": [
    "# Install ShapIQ"
   ]
  },
  {
   "cell_type": "code",
   "execution_count": 1,
   "id": "8de48667-8e4f-4ac4-bed0-43c8a4699511",
   "metadata": {},
   "outputs": [
    {
     "name": "stdout",
     "output_type": "stream",
     "text": [
      "Requirement already satisfied: shapiq in c:\\users\\saad\\anaconda3\\lib\\site-packages (1.2.1)\n",
      "Requirement already satisfied: numpy in c:\\users\\saad\\anaconda3\\lib\\site-packages (from shapiq) (1.26.4)\n",
      "Requirement already satisfied: scipy in c:\\users\\saad\\anaconda3\\lib\\site-packages (from shapiq) (1.13.1)\n",
      "Requirement already satisfied: pandas in c:\\users\\saad\\anaconda3\\lib\\site-packages (from shapiq) (2.2.2)\n",
      "Requirement already satisfied: scikit-learn in c:\\users\\saad\\anaconda3\\lib\\site-packages (from shapiq) (1.4.2)\n",
      "Requirement already satisfied: tqdm in c:\\users\\saad\\anaconda3\\lib\\site-packages (from shapiq) (4.66.4)\n",
      "Requirement already satisfied: requests in c:\\users\\saad\\anaconda3\\lib\\site-packages (from shapiq) (2.32.2)\n",
      "Requirement already satisfied: matplotlib in c:\\users\\saad\\anaconda3\\lib\\site-packages (from shapiq) (3.8.4)\n",
      "Requirement already satisfied: colour in c:\\users\\saad\\anaconda3\\lib\\site-packages (from shapiq) (0.1.5)\n",
      "Requirement already satisfied: networkx in c:\\users\\saad\\anaconda3\\lib\\site-packages (from shapiq) (3.2.1)\n",
      "Requirement already satisfied: contourpy>=1.0.1 in c:\\users\\saad\\anaconda3\\lib\\site-packages (from matplotlib->shapiq) (1.2.0)\n",
      "Requirement already satisfied: cycler>=0.10 in c:\\users\\saad\\anaconda3\\lib\\site-packages (from matplotlib->shapiq) (0.11.0)\n",
      "Requirement already satisfied: fonttools>=4.22.0 in c:\\users\\saad\\anaconda3\\lib\\site-packages (from matplotlib->shapiq) (4.51.0)\n",
      "Requirement already satisfied: kiwisolver>=1.3.1 in c:\\users\\saad\\anaconda3\\lib\\site-packages (from matplotlib->shapiq) (1.4.4)\n",
      "Requirement already satisfied: packaging>=20.0 in c:\\users\\saad\\anaconda3\\lib\\site-packages (from matplotlib->shapiq) (23.2)\n",
      "Requirement already satisfied: pillow>=8 in c:\\users\\saad\\anaconda3\\lib\\site-packages (from matplotlib->shapiq) (10.3.0)\n",
      "Requirement already satisfied: pyparsing>=2.3.1 in c:\\users\\saad\\anaconda3\\lib\\site-packages (from matplotlib->shapiq) (3.0.9)\n",
      "Requirement already satisfied: python-dateutil>=2.7 in c:\\users\\saad\\anaconda3\\lib\\site-packages (from matplotlib->shapiq) (2.9.0.post0)\n",
      "Requirement already satisfied: pytz>=2020.1 in c:\\users\\saad\\anaconda3\\lib\\site-packages (from pandas->shapiq) (2024.1)\n",
      "Requirement already satisfied: tzdata>=2022.7 in c:\\users\\saad\\anaconda3\\lib\\site-packages (from pandas->shapiq) (2023.3)\n",
      "Requirement already satisfied: charset-normalizer<4,>=2 in c:\\users\\saad\\anaconda3\\lib\\site-packages (from requests->shapiq) (2.0.4)\n",
      "Requirement already satisfied: idna<4,>=2.5 in c:\\users\\saad\\anaconda3\\lib\\site-packages (from requests->shapiq) (3.7)\n",
      "Requirement already satisfied: urllib3<3,>=1.21.1 in c:\\users\\saad\\anaconda3\\lib\\site-packages (from requests->shapiq) (2.2.2)\n",
      "Requirement already satisfied: certifi>=2017.4.17 in c:\\users\\saad\\anaconda3\\lib\\site-packages (from requests->shapiq) (2024.8.30)\n",
      "Requirement already satisfied: joblib>=1.2.0 in c:\\users\\saad\\anaconda3\\lib\\site-packages (from scikit-learn->shapiq) (1.4.2)\n",
      "Requirement already satisfied: threadpoolctl>=2.0.0 in c:\\users\\saad\\anaconda3\\lib\\site-packages (from scikit-learn->shapiq) (2.2.0)\n",
      "Requirement already satisfied: colorama in c:\\users\\saad\\anaconda3\\lib\\site-packages (from tqdm->shapiq) (0.4.6)\n",
      "Requirement already satisfied: six>=1.5 in c:\\users\\saad\\anaconda3\\lib\\site-packages (from python-dateutil>=2.7->matplotlib->shapiq) (1.16.0)\n",
      "Note: you may need to restart the kernel to use updated packages.\n"
     ]
    }
   ],
   "source": [
    "pip install shapiq"
   ]
  },
  {
   "cell_type": "markdown",
   "id": "63db4d33-c199-4429-b98a-e779670e19f7",
   "metadata": {
    "jp-MarkdownHeadingCollapsed": true
   },
   "source": [
    "# Preparing a Sample Dataset"
   ]
  },
  {
   "cell_type": "markdown",
   "id": "008bf545-2777-416a-bd06-dba64b9dbdb7",
   "metadata": {},
   "source": [
    "<span style=\"font-size: 18px;\">**We use the built california housing dataset for our analysis**"
   ]
  },
  {
   "cell_type": "code",
   "execution_count": 226,
   "id": "24f4cf04-a1ee-494d-9ac5-454e02432ef3",
   "metadata": {},
   "outputs": [],
   "source": [
    "from sklearn.datasets import fetch_california_housing\n",
    "from sklearn.model_selection import train_test_split\n",
    "\n",
    "# Load the dataset\n",
    "data = fetch_california_housing()\n",
    "X_train, X_test, y_train, y_test = train_test_split(data.data, data.target, test_size=0.2, random_state=42)\n"
   ]
  },
  {
   "cell_type": "markdown",
   "id": "127ceae8-f60b-45cb-81c8-aa7b61ca3e92",
   "metadata": {},
   "source": [
    "California housing dataset is a builtin dataset within the sklearn library. The features in the california housing datasets are as follows:\n",
    "\n",
    "**Explanatory Features**\n",
    "\n",
    "MedInc (Median Income): Median income of the district's residents (in $10,000).\n",
    "\n",
    "HouseAge: Median age of houses in the district (in years).\n",
    "\n",
    "AveRooms: Average number of rooms per house in the district.\n",
    "\n",
    "AveOccup: Average number of people per household in the district.\n",
    "\n",
    "Lat (Latitude): Latitude of the district.\n",
    "\n",
    "Long (Longitude): Longitude of the district.\n",
    "\n",
    "MedHouseVal (Median House Value): The target variable for regression, which is the median house value for the district (in $100,000s).\n",
    "Population: The population of the district.\n",
    "\n",
    "\n",
    "**Target Variable:**\n",
    "\n",
    "y (Target Variable): The target variable for this dataset is the median house value (MedHouseVal) for each California district. This is what you are trying to predict based on the explanatory variables."
   ]
  },
  {
   "cell_type": "markdown",
   "id": "9b7f7e76-3ecd-4fd7-9a18-eef0632a76f3",
   "metadata": {},
   "source": [
    "<span style=\"font-size: 18px;\">**Checking correlations between Training Features**"
   ]
  },
  {
   "cell_type": "code",
   "execution_count": 230,
   "id": "4e5fd1b3-69cc-4fd9-8f76-2453beaf141b",
   "metadata": {},
   "outputs": [
    {
     "data": {
      "text/plain": [
       "sklearn.utils._bunch.Bunch"
      ]
     },
     "execution_count": 230,
     "metadata": {},
     "output_type": "execute_result"
    }
   ],
   "source": [
    "type(data)"
   ]
  },
  {
   "cell_type": "code",
   "execution_count": 234,
   "id": "9533f21b-7e90-41f4-b6c0-696887703196",
   "metadata": {},
   "outputs": [
    {
     "data": {
      "text/html": [
       "<div>\n",
       "<style scoped>\n",
       "    .dataframe tbody tr th:only-of-type {\n",
       "        vertical-align: middle;\n",
       "    }\n",
       "\n",
       "    .dataframe tbody tr th {\n",
       "        vertical-align: top;\n",
       "    }\n",
       "\n",
       "    .dataframe thead th {\n",
       "        text-align: right;\n",
       "    }\n",
       "</style>\n",
       "<table border=\"1\" class=\"dataframe\">\n",
       "  <thead>\n",
       "    <tr style=\"text-align: right;\">\n",
       "      <th></th>\n",
       "      <th>MedInc</th>\n",
       "      <th>HouseAge</th>\n",
       "      <th>AveRooms</th>\n",
       "      <th>AveBedrms</th>\n",
       "      <th>Population</th>\n",
       "      <th>AveOccup</th>\n",
       "      <th>Latitude</th>\n",
       "      <th>Longitude</th>\n",
       "    </tr>\n",
       "  </thead>\n",
       "  <tbody>\n",
       "    <tr>\n",
       "      <th>MedInc</th>\n",
       "      <td>1.000000</td>\n",
       "      <td>-0.121711</td>\n",
       "      <td>0.336013</td>\n",
       "      <td>-0.072550</td>\n",
       "      <td>0.004122</td>\n",
       "      <td>0.022061</td>\n",
       "      <td>-0.076571</td>\n",
       "      <td>-0.017040</td>\n",
       "    </tr>\n",
       "    <tr>\n",
       "      <th>HouseAge</th>\n",
       "      <td>-0.121711</td>\n",
       "      <td>1.000000</td>\n",
       "      <td>-0.160892</td>\n",
       "      <td>-0.087983</td>\n",
       "      <td>-0.292283</td>\n",
       "      <td>0.016245</td>\n",
       "      <td>0.005296</td>\n",
       "      <td>-0.101818</td>\n",
       "    </tr>\n",
       "    <tr>\n",
       "      <th>AveRooms</th>\n",
       "      <td>0.336013</td>\n",
       "      <td>-0.160892</td>\n",
       "      <td>1.000000</td>\n",
       "      <td>0.836163</td>\n",
       "      <td>-0.073733</td>\n",
       "      <td>-0.004922</td>\n",
       "      <td>0.110695</td>\n",
       "      <td>-0.029339</td>\n",
       "    </tr>\n",
       "    <tr>\n",
       "      <th>AveBedrms</th>\n",
       "      <td>-0.072550</td>\n",
       "      <td>-0.087983</td>\n",
       "      <td>0.836163</td>\n",
       "      <td>1.000000</td>\n",
       "      <td>-0.071267</td>\n",
       "      <td>-0.006035</td>\n",
       "      <td>0.073161</td>\n",
       "      <td>0.016647</td>\n",
       "    </tr>\n",
       "    <tr>\n",
       "      <th>Population</th>\n",
       "      <td>0.004122</td>\n",
       "      <td>-0.292283</td>\n",
       "      <td>-0.073733</td>\n",
       "      <td>-0.071267</td>\n",
       "      <td>1.000000</td>\n",
       "      <td>0.072330</td>\n",
       "      <td>-0.102499</td>\n",
       "      <td>0.094276</td>\n",
       "    </tr>\n",
       "    <tr>\n",
       "      <th>AveOccup</th>\n",
       "      <td>0.022061</td>\n",
       "      <td>0.016245</td>\n",
       "      <td>-0.004922</td>\n",
       "      <td>-0.006035</td>\n",
       "      <td>0.072330</td>\n",
       "      <td>1.000000</td>\n",
       "      <td>0.005837</td>\n",
       "      <td>-0.000598</td>\n",
       "    </tr>\n",
       "    <tr>\n",
       "      <th>Latitude</th>\n",
       "      <td>-0.076571</td>\n",
       "      <td>0.005296</td>\n",
       "      <td>0.110695</td>\n",
       "      <td>0.073161</td>\n",
       "      <td>-0.102499</td>\n",
       "      <td>0.005837</td>\n",
       "      <td>1.000000</td>\n",
       "      <td>-0.924485</td>\n",
       "    </tr>\n",
       "    <tr>\n",
       "      <th>Longitude</th>\n",
       "      <td>-0.017040</td>\n",
       "      <td>-0.101818</td>\n",
       "      <td>-0.029339</td>\n",
       "      <td>0.016647</td>\n",
       "      <td>0.094276</td>\n",
       "      <td>-0.000598</td>\n",
       "      <td>-0.924485</td>\n",
       "      <td>1.000000</td>\n",
       "    </tr>\n",
       "  </tbody>\n",
       "</table>\n",
       "</div>"
      ],
      "text/plain": [
       "              MedInc  HouseAge  AveRooms  AveBedrms  Population  AveOccup  \\\n",
       "MedInc      1.000000 -0.121711  0.336013  -0.072550    0.004122  0.022061   \n",
       "HouseAge   -0.121711  1.000000 -0.160892  -0.087983   -0.292283  0.016245   \n",
       "AveRooms    0.336013 -0.160892  1.000000   0.836163   -0.073733 -0.004922   \n",
       "AveBedrms  -0.072550 -0.087983  0.836163   1.000000   -0.071267 -0.006035   \n",
       "Population  0.004122 -0.292283 -0.073733  -0.071267    1.000000  0.072330   \n",
       "AveOccup    0.022061  0.016245 -0.004922  -0.006035    0.072330  1.000000   \n",
       "Latitude   -0.076571  0.005296  0.110695   0.073161   -0.102499  0.005837   \n",
       "Longitude  -0.017040 -0.101818 -0.029339   0.016647    0.094276 -0.000598   \n",
       "\n",
       "            Latitude  Longitude  \n",
       "MedInc     -0.076571  -0.017040  \n",
       "HouseAge    0.005296  -0.101818  \n",
       "AveRooms    0.110695  -0.029339  \n",
       "AveBedrms   0.073161   0.016647  \n",
       "Population -0.102499   0.094276  \n",
       "AveOccup    0.005837  -0.000598  \n",
       "Latitude    1.000000  -0.924485  \n",
       "Longitude  -0.924485   1.000000  "
      ]
     },
     "execution_count": 234,
     "metadata": {},
     "output_type": "execute_result"
    }
   ],
   "source": [
    "import pandas as pd\n",
    "\n",
    "# Check correlation between features\n",
    "df = pd.DataFrame(X_train, columns=data.feature_names)\n",
    "df.corr()"
   ]
  },
  {
   "cell_type": "markdown",
   "id": "5dff9cda-27f3-4264-a4ed-d60295271e2a",
   "metadata": {
    "jp-MarkdownHeadingCollapsed": true
   },
   "source": [
    "# Training XGBoost model"
   ]
  },
  {
   "cell_type": "code",
   "execution_count": 5,
   "id": "c34eca7c-ce73-46d1-b494-304977bec5bc",
   "metadata": {},
   "outputs": [
    {
     "data": {
      "text/html": [
       "<style>#sk-container-id-1 {\n",
       "  /* Definition of color scheme common for light and dark mode */\n",
       "  --sklearn-color-text: black;\n",
       "  --sklearn-color-line: gray;\n",
       "  /* Definition of color scheme for unfitted estimators */\n",
       "  --sklearn-color-unfitted-level-0: #fff5e6;\n",
       "  --sklearn-color-unfitted-level-1: #f6e4d2;\n",
       "  --sklearn-color-unfitted-level-2: #ffe0b3;\n",
       "  --sklearn-color-unfitted-level-3: chocolate;\n",
       "  /* Definition of color scheme for fitted estimators */\n",
       "  --sklearn-color-fitted-level-0: #f0f8ff;\n",
       "  --sklearn-color-fitted-level-1: #d4ebff;\n",
       "  --sklearn-color-fitted-level-2: #b3dbfd;\n",
       "  --sklearn-color-fitted-level-3: cornflowerblue;\n",
       "\n",
       "  /* Specific color for light theme */\n",
       "  --sklearn-color-text-on-default-background: var(--sg-text-color, var(--theme-code-foreground, var(--jp-content-font-color1, black)));\n",
       "  --sklearn-color-background: var(--sg-background-color, var(--theme-background, var(--jp-layout-color0, white)));\n",
       "  --sklearn-color-border-box: var(--sg-text-color, var(--theme-code-foreground, var(--jp-content-font-color1, black)));\n",
       "  --sklearn-color-icon: #696969;\n",
       "\n",
       "  @media (prefers-color-scheme: dark) {\n",
       "    /* Redefinition of color scheme for dark theme */\n",
       "    --sklearn-color-text-on-default-background: var(--sg-text-color, var(--theme-code-foreground, var(--jp-content-font-color1, white)));\n",
       "    --sklearn-color-background: var(--sg-background-color, var(--theme-background, var(--jp-layout-color0, #111)));\n",
       "    --sklearn-color-border-box: var(--sg-text-color, var(--theme-code-foreground, var(--jp-content-font-color1, white)));\n",
       "    --sklearn-color-icon: #878787;\n",
       "  }\n",
       "}\n",
       "\n",
       "#sk-container-id-1 {\n",
       "  color: var(--sklearn-color-text);\n",
       "}\n",
       "\n",
       "#sk-container-id-1 pre {\n",
       "  padding: 0;\n",
       "}\n",
       "\n",
       "#sk-container-id-1 input.sk-hidden--visually {\n",
       "  border: 0;\n",
       "  clip: rect(1px 1px 1px 1px);\n",
       "  clip: rect(1px, 1px, 1px, 1px);\n",
       "  height: 1px;\n",
       "  margin: -1px;\n",
       "  overflow: hidden;\n",
       "  padding: 0;\n",
       "  position: absolute;\n",
       "  width: 1px;\n",
       "}\n",
       "\n",
       "#sk-container-id-1 div.sk-dashed-wrapped {\n",
       "  border: 1px dashed var(--sklearn-color-line);\n",
       "  margin: 0 0.4em 0.5em 0.4em;\n",
       "  box-sizing: border-box;\n",
       "  padding-bottom: 0.4em;\n",
       "  background-color: var(--sklearn-color-background);\n",
       "}\n",
       "\n",
       "#sk-container-id-1 div.sk-container {\n",
       "  /* jupyter's `normalize.less` sets `[hidden] { display: none; }`\n",
       "     but bootstrap.min.css set `[hidden] { display: none !important; }`\n",
       "     so we also need the `!important` here to be able to override the\n",
       "     default hidden behavior on the sphinx rendered scikit-learn.org.\n",
       "     See: https://github.com/scikit-learn/scikit-learn/issues/21755 */\n",
       "  display: inline-block !important;\n",
       "  position: relative;\n",
       "}\n",
       "\n",
       "#sk-container-id-1 div.sk-text-repr-fallback {\n",
       "  display: none;\n",
       "}\n",
       "\n",
       "div.sk-parallel-item,\n",
       "div.sk-serial,\n",
       "div.sk-item {\n",
       "  /* draw centered vertical line to link estimators */\n",
       "  background-image: linear-gradient(var(--sklearn-color-text-on-default-background), var(--sklearn-color-text-on-default-background));\n",
       "  background-size: 2px 100%;\n",
       "  background-repeat: no-repeat;\n",
       "  background-position: center center;\n",
       "}\n",
       "\n",
       "/* Parallel-specific style estimator block */\n",
       "\n",
       "#sk-container-id-1 div.sk-parallel-item::after {\n",
       "  content: \"\";\n",
       "  width: 100%;\n",
       "  border-bottom: 2px solid var(--sklearn-color-text-on-default-background);\n",
       "  flex-grow: 1;\n",
       "}\n",
       "\n",
       "#sk-container-id-1 div.sk-parallel {\n",
       "  display: flex;\n",
       "  align-items: stretch;\n",
       "  justify-content: center;\n",
       "  background-color: var(--sklearn-color-background);\n",
       "  position: relative;\n",
       "}\n",
       "\n",
       "#sk-container-id-1 div.sk-parallel-item {\n",
       "  display: flex;\n",
       "  flex-direction: column;\n",
       "}\n",
       "\n",
       "#sk-container-id-1 div.sk-parallel-item:first-child::after {\n",
       "  align-self: flex-end;\n",
       "  width: 50%;\n",
       "}\n",
       "\n",
       "#sk-container-id-1 div.sk-parallel-item:last-child::after {\n",
       "  align-self: flex-start;\n",
       "  width: 50%;\n",
       "}\n",
       "\n",
       "#sk-container-id-1 div.sk-parallel-item:only-child::after {\n",
       "  width: 0;\n",
       "}\n",
       "\n",
       "/* Serial-specific style estimator block */\n",
       "\n",
       "#sk-container-id-1 div.sk-serial {\n",
       "  display: flex;\n",
       "  flex-direction: column;\n",
       "  align-items: center;\n",
       "  background-color: var(--sklearn-color-background);\n",
       "  padding-right: 1em;\n",
       "  padding-left: 1em;\n",
       "}\n",
       "\n",
       "\n",
       "/* Toggleable style: style used for estimator/Pipeline/ColumnTransformer box that is\n",
       "clickable and can be expanded/collapsed.\n",
       "- Pipeline and ColumnTransformer use this feature and define the default style\n",
       "- Estimators will overwrite some part of the style using the `sk-estimator` class\n",
       "*/\n",
       "\n",
       "/* Pipeline and ColumnTransformer style (default) */\n",
       "\n",
       "#sk-container-id-1 div.sk-toggleable {\n",
       "  /* Default theme specific background. It is overwritten whether we have a\n",
       "  specific estimator or a Pipeline/ColumnTransformer */\n",
       "  background-color: var(--sklearn-color-background);\n",
       "}\n",
       "\n",
       "/* Toggleable label */\n",
       "#sk-container-id-1 label.sk-toggleable__label {\n",
       "  cursor: pointer;\n",
       "  display: block;\n",
       "  width: 100%;\n",
       "  margin-bottom: 0;\n",
       "  padding: 0.5em;\n",
       "  box-sizing: border-box;\n",
       "  text-align: center;\n",
       "}\n",
       "\n",
       "#sk-container-id-1 label.sk-toggleable__label-arrow:before {\n",
       "  /* Arrow on the left of the label */\n",
       "  content: \"▸\";\n",
       "  float: left;\n",
       "  margin-right: 0.25em;\n",
       "  color: var(--sklearn-color-icon);\n",
       "}\n",
       "\n",
       "#sk-container-id-1 label.sk-toggleable__label-arrow:hover:before {\n",
       "  color: var(--sklearn-color-text);\n",
       "}\n",
       "\n",
       "/* Toggleable content - dropdown */\n",
       "\n",
       "#sk-container-id-1 div.sk-toggleable__content {\n",
       "  max-height: 0;\n",
       "  max-width: 0;\n",
       "  overflow: hidden;\n",
       "  text-align: left;\n",
       "  /* unfitted */\n",
       "  background-color: var(--sklearn-color-unfitted-level-0);\n",
       "}\n",
       "\n",
       "#sk-container-id-1 div.sk-toggleable__content.fitted {\n",
       "  /* fitted */\n",
       "  background-color: var(--sklearn-color-fitted-level-0);\n",
       "}\n",
       "\n",
       "#sk-container-id-1 div.sk-toggleable__content pre {\n",
       "  margin: 0.2em;\n",
       "  border-radius: 0.25em;\n",
       "  color: var(--sklearn-color-text);\n",
       "  /* unfitted */\n",
       "  background-color: var(--sklearn-color-unfitted-level-0);\n",
       "}\n",
       "\n",
       "#sk-container-id-1 div.sk-toggleable__content.fitted pre {\n",
       "  /* unfitted */\n",
       "  background-color: var(--sklearn-color-fitted-level-0);\n",
       "}\n",
       "\n",
       "#sk-container-id-1 input.sk-toggleable__control:checked~div.sk-toggleable__content {\n",
       "  /* Expand drop-down */\n",
       "  max-height: 200px;\n",
       "  max-width: 100%;\n",
       "  overflow: auto;\n",
       "}\n",
       "\n",
       "#sk-container-id-1 input.sk-toggleable__control:checked~label.sk-toggleable__label-arrow:before {\n",
       "  content: \"▾\";\n",
       "}\n",
       "\n",
       "/* Pipeline/ColumnTransformer-specific style */\n",
       "\n",
       "#sk-container-id-1 div.sk-label input.sk-toggleable__control:checked~label.sk-toggleable__label {\n",
       "  color: var(--sklearn-color-text);\n",
       "  background-color: var(--sklearn-color-unfitted-level-2);\n",
       "}\n",
       "\n",
       "#sk-container-id-1 div.sk-label.fitted input.sk-toggleable__control:checked~label.sk-toggleable__label {\n",
       "  background-color: var(--sklearn-color-fitted-level-2);\n",
       "}\n",
       "\n",
       "/* Estimator-specific style */\n",
       "\n",
       "/* Colorize estimator box */\n",
       "#sk-container-id-1 div.sk-estimator input.sk-toggleable__control:checked~label.sk-toggleable__label {\n",
       "  /* unfitted */\n",
       "  background-color: var(--sklearn-color-unfitted-level-2);\n",
       "}\n",
       "\n",
       "#sk-container-id-1 div.sk-estimator.fitted input.sk-toggleable__control:checked~label.sk-toggleable__label {\n",
       "  /* fitted */\n",
       "  background-color: var(--sklearn-color-fitted-level-2);\n",
       "}\n",
       "\n",
       "#sk-container-id-1 div.sk-label label.sk-toggleable__label,\n",
       "#sk-container-id-1 div.sk-label label {\n",
       "  /* The background is the default theme color */\n",
       "  color: var(--sklearn-color-text-on-default-background);\n",
       "}\n",
       "\n",
       "/* On hover, darken the color of the background */\n",
       "#sk-container-id-1 div.sk-label:hover label.sk-toggleable__label {\n",
       "  color: var(--sklearn-color-text);\n",
       "  background-color: var(--sklearn-color-unfitted-level-2);\n",
       "}\n",
       "\n",
       "/* Label box, darken color on hover, fitted */\n",
       "#sk-container-id-1 div.sk-label.fitted:hover label.sk-toggleable__label.fitted {\n",
       "  color: var(--sklearn-color-text);\n",
       "  background-color: var(--sklearn-color-fitted-level-2);\n",
       "}\n",
       "\n",
       "/* Estimator label */\n",
       "\n",
       "#sk-container-id-1 div.sk-label label {\n",
       "  font-family: monospace;\n",
       "  font-weight: bold;\n",
       "  display: inline-block;\n",
       "  line-height: 1.2em;\n",
       "}\n",
       "\n",
       "#sk-container-id-1 div.sk-label-container {\n",
       "  text-align: center;\n",
       "}\n",
       "\n",
       "/* Estimator-specific */\n",
       "#sk-container-id-1 div.sk-estimator {\n",
       "  font-family: monospace;\n",
       "  border: 1px dotted var(--sklearn-color-border-box);\n",
       "  border-radius: 0.25em;\n",
       "  box-sizing: border-box;\n",
       "  margin-bottom: 0.5em;\n",
       "  /* unfitted */\n",
       "  background-color: var(--sklearn-color-unfitted-level-0);\n",
       "}\n",
       "\n",
       "#sk-container-id-1 div.sk-estimator.fitted {\n",
       "  /* fitted */\n",
       "  background-color: var(--sklearn-color-fitted-level-0);\n",
       "}\n",
       "\n",
       "/* on hover */\n",
       "#sk-container-id-1 div.sk-estimator:hover {\n",
       "  /* unfitted */\n",
       "  background-color: var(--sklearn-color-unfitted-level-2);\n",
       "}\n",
       "\n",
       "#sk-container-id-1 div.sk-estimator.fitted:hover {\n",
       "  /* fitted */\n",
       "  background-color: var(--sklearn-color-fitted-level-2);\n",
       "}\n",
       "\n",
       "/* Specification for estimator info (e.g. \"i\" and \"?\") */\n",
       "\n",
       "/* Common style for \"i\" and \"?\" */\n",
       "\n",
       ".sk-estimator-doc-link,\n",
       "a:link.sk-estimator-doc-link,\n",
       "a:visited.sk-estimator-doc-link {\n",
       "  float: right;\n",
       "  font-size: smaller;\n",
       "  line-height: 1em;\n",
       "  font-family: monospace;\n",
       "  background-color: var(--sklearn-color-background);\n",
       "  border-radius: 1em;\n",
       "  height: 1em;\n",
       "  width: 1em;\n",
       "  text-decoration: none !important;\n",
       "  margin-left: 1ex;\n",
       "  /* unfitted */\n",
       "  border: var(--sklearn-color-unfitted-level-1) 1pt solid;\n",
       "  color: var(--sklearn-color-unfitted-level-1);\n",
       "}\n",
       "\n",
       ".sk-estimator-doc-link.fitted,\n",
       "a:link.sk-estimator-doc-link.fitted,\n",
       "a:visited.sk-estimator-doc-link.fitted {\n",
       "  /* fitted */\n",
       "  border: var(--sklearn-color-fitted-level-1) 1pt solid;\n",
       "  color: var(--sklearn-color-fitted-level-1);\n",
       "}\n",
       "\n",
       "/* On hover */\n",
       "div.sk-estimator:hover .sk-estimator-doc-link:hover,\n",
       ".sk-estimator-doc-link:hover,\n",
       "div.sk-label-container:hover .sk-estimator-doc-link:hover,\n",
       ".sk-estimator-doc-link:hover {\n",
       "  /* unfitted */\n",
       "  background-color: var(--sklearn-color-unfitted-level-3);\n",
       "  color: var(--sklearn-color-background);\n",
       "  text-decoration: none;\n",
       "}\n",
       "\n",
       "div.sk-estimator.fitted:hover .sk-estimator-doc-link.fitted:hover,\n",
       ".sk-estimator-doc-link.fitted:hover,\n",
       "div.sk-label-container:hover .sk-estimator-doc-link.fitted:hover,\n",
       ".sk-estimator-doc-link.fitted:hover {\n",
       "  /* fitted */\n",
       "  background-color: var(--sklearn-color-fitted-level-3);\n",
       "  color: var(--sklearn-color-background);\n",
       "  text-decoration: none;\n",
       "}\n",
       "\n",
       "/* Span, style for the box shown on hovering the info icon */\n",
       ".sk-estimator-doc-link span {\n",
       "  display: none;\n",
       "  z-index: 9999;\n",
       "  position: relative;\n",
       "  font-weight: normal;\n",
       "  right: .2ex;\n",
       "  padding: .5ex;\n",
       "  margin: .5ex;\n",
       "  width: min-content;\n",
       "  min-width: 20ex;\n",
       "  max-width: 50ex;\n",
       "  color: var(--sklearn-color-text);\n",
       "  box-shadow: 2pt 2pt 4pt #999;\n",
       "  /* unfitted */\n",
       "  background: var(--sklearn-color-unfitted-level-0);\n",
       "  border: .5pt solid var(--sklearn-color-unfitted-level-3);\n",
       "}\n",
       "\n",
       ".sk-estimator-doc-link.fitted span {\n",
       "  /* fitted */\n",
       "  background: var(--sklearn-color-fitted-level-0);\n",
       "  border: var(--sklearn-color-fitted-level-3);\n",
       "}\n",
       "\n",
       ".sk-estimator-doc-link:hover span {\n",
       "  display: block;\n",
       "}\n",
       "\n",
       "/* \"?\"-specific style due to the `<a>` HTML tag */\n",
       "\n",
       "#sk-container-id-1 a.estimator_doc_link {\n",
       "  float: right;\n",
       "  font-size: 1rem;\n",
       "  line-height: 1em;\n",
       "  font-family: monospace;\n",
       "  background-color: var(--sklearn-color-background);\n",
       "  border-radius: 1rem;\n",
       "  height: 1rem;\n",
       "  width: 1rem;\n",
       "  text-decoration: none;\n",
       "  /* unfitted */\n",
       "  color: var(--sklearn-color-unfitted-level-1);\n",
       "  border: var(--sklearn-color-unfitted-level-1) 1pt solid;\n",
       "}\n",
       "\n",
       "#sk-container-id-1 a.estimator_doc_link.fitted {\n",
       "  /* fitted */\n",
       "  border: var(--sklearn-color-fitted-level-1) 1pt solid;\n",
       "  color: var(--sklearn-color-fitted-level-1);\n",
       "}\n",
       "\n",
       "/* On hover */\n",
       "#sk-container-id-1 a.estimator_doc_link:hover {\n",
       "  /* unfitted */\n",
       "  background-color: var(--sklearn-color-unfitted-level-3);\n",
       "  color: var(--sklearn-color-background);\n",
       "  text-decoration: none;\n",
       "}\n",
       "\n",
       "#sk-container-id-1 a.estimator_doc_link.fitted:hover {\n",
       "  /* fitted */\n",
       "  background-color: var(--sklearn-color-fitted-level-3);\n",
       "}\n",
       "</style><div id=\"sk-container-id-1\" class=\"sk-top-container\"><div class=\"sk-text-repr-fallback\"><pre>XGBRegressor(base_score=None, booster=None, callbacks=None,\n",
       "             colsample_bylevel=None, colsample_bynode=None,\n",
       "             colsample_bytree=None, device=None, early_stopping_rounds=None,\n",
       "             enable_categorical=False, eval_metric=None, feature_types=None,\n",
       "             gamma=None, grow_policy=None, importance_type=None,\n",
       "             interaction_constraints=None, learning_rate=None, max_bin=None,\n",
       "             max_cat_threshold=None, max_cat_to_onehot=None,\n",
       "             max_delta_step=None, max_depth=None, max_leaves=None,\n",
       "             min_child_weight=None, missing=nan, monotone_constraints=None,\n",
       "             multi_strategy=None, n_estimators=100, n_jobs=None,\n",
       "             num_parallel_tree=None, random_state=42, ...)</pre><b>In a Jupyter environment, please rerun this cell to show the HTML representation or trust the notebook. <br />On GitHub, the HTML representation is unable to render, please try loading this page with nbviewer.org.</b></div><div class=\"sk-container\" hidden><div class=\"sk-item\"><div class=\"sk-estimator fitted sk-toggleable\"><input class=\"sk-toggleable__control sk-hidden--visually\" id=\"sk-estimator-id-1\" type=\"checkbox\" checked><label for=\"sk-estimator-id-1\" class=\"sk-toggleable__label fitted sk-toggleable__label-arrow fitted\">&nbsp;XGBRegressor<span class=\"sk-estimator-doc-link fitted\">i<span>Fitted</span></span></label><div class=\"sk-toggleable__content fitted\"><pre>XGBRegressor(base_score=None, booster=None, callbacks=None,\n",
       "             colsample_bylevel=None, colsample_bynode=None,\n",
       "             colsample_bytree=None, device=None, early_stopping_rounds=None,\n",
       "             enable_categorical=False, eval_metric=None, feature_types=None,\n",
       "             gamma=None, grow_policy=None, importance_type=None,\n",
       "             interaction_constraints=None, learning_rate=None, max_bin=None,\n",
       "             max_cat_threshold=None, max_cat_to_onehot=None,\n",
       "             max_delta_step=None, max_depth=None, max_leaves=None,\n",
       "             min_child_weight=None, missing=nan, monotone_constraints=None,\n",
       "             multi_strategy=None, n_estimators=100, n_jobs=None,\n",
       "             num_parallel_tree=None, random_state=42, ...)</pre></div> </div></div></div></div>"
      ],
      "text/plain": [
       "XGBRegressor(base_score=None, booster=None, callbacks=None,\n",
       "             colsample_bylevel=None, colsample_bynode=None,\n",
       "             colsample_bytree=None, device=None, early_stopping_rounds=None,\n",
       "             enable_categorical=False, eval_metric=None, feature_types=None,\n",
       "             gamma=None, grow_policy=None, importance_type=None,\n",
       "             interaction_constraints=None, learning_rate=None, max_bin=None,\n",
       "             max_cat_threshold=None, max_cat_to_onehot=None,\n",
       "             max_delta_step=None, max_depth=None, max_leaves=None,\n",
       "             min_child_weight=None, missing=nan, monotone_constraints=None,\n",
       "             multi_strategy=None, n_estimators=100, n_jobs=None,\n",
       "             num_parallel_tree=None, random_state=42, ...)"
      ]
     },
     "execution_count": 5,
     "metadata": {},
     "output_type": "execute_result"
    }
   ],
   "source": [
    "import xgboost as xgb\n",
    "\n",
    "# Initialize and train the model\n",
    "model = xgb.XGBRegressor(objective='reg:squarederror', n_estimators=100, random_state=42)\n",
    "model.fit(X_train, y_train)\n"
   ]
  },
  {
   "cell_type": "markdown",
   "id": "8af20d28-148c-40c3-a998-ef3e4bceee53",
   "metadata": {
    "jp-MarkdownHeadingCollapsed": true
   },
   "source": [
    "# Computing Shaply Values & Interactions"
   ]
  },
  {
   "cell_type": "code",
   "execution_count": 7,
   "id": "6ee9ac05-159d-4b31-ad80-3043cd2f1b9f",
   "metadata": {},
   "outputs": [
    {
     "name": "stdout",
     "output_type": "stream",
     "text": [
      "Requirement already satisfied: shapiq in c:\\users\\saad\\anaconda3\\lib\\site-packages (1.2.1)\n",
      "Requirement already satisfied: numpy in c:\\users\\saad\\anaconda3\\lib\\site-packages (from shapiq) (1.26.4)\n",
      "Requirement already satisfied: scipy in c:\\users\\saad\\anaconda3\\lib\\site-packages (from shapiq) (1.13.1)\n",
      "Requirement already satisfied: pandas in c:\\users\\saad\\anaconda3\\lib\\site-packages (from shapiq) (2.2.2)\n",
      "Requirement already satisfied: scikit-learn in c:\\users\\saad\\anaconda3\\lib\\site-packages (from shapiq) (1.4.2)\n",
      "Requirement already satisfied: tqdm in c:\\users\\saad\\anaconda3\\lib\\site-packages (from shapiq) (4.66.4)\n",
      "Requirement already satisfied: requests in c:\\users\\saad\\anaconda3\\lib\\site-packages (from shapiq) (2.32.2)\n",
      "Requirement already satisfied: matplotlib in c:\\users\\saad\\anaconda3\\lib\\site-packages (from shapiq) (3.8.4)\n",
      "Requirement already satisfied: colour in c:\\users\\saad\\anaconda3\\lib\\site-packages (from shapiq) (0.1.5)\n",
      "Requirement already satisfied: networkx in c:\\users\\saad\\anaconda3\\lib\\site-packages (from shapiq) (3.2.1)\n",
      "Requirement already satisfied: contourpy>=1.0.1 in c:\\users\\saad\\anaconda3\\lib\\site-packages (from matplotlib->shapiq) (1.2.0)\n",
      "Requirement already satisfied: cycler>=0.10 in c:\\users\\saad\\anaconda3\\lib\\site-packages (from matplotlib->shapiq) (0.11.0)\n",
      "Requirement already satisfied: fonttools>=4.22.0 in c:\\users\\saad\\anaconda3\\lib\\site-packages (from matplotlib->shapiq) (4.51.0)\n",
      "Requirement already satisfied: kiwisolver>=1.3.1 in c:\\users\\saad\\anaconda3\\lib\\site-packages (from matplotlib->shapiq) (1.4.4)\n",
      "Requirement already satisfied: packaging>=20.0 in c:\\users\\saad\\anaconda3\\lib\\site-packages (from matplotlib->shapiq) (23.2)\n",
      "Requirement already satisfied: pillow>=8 in c:\\users\\saad\\anaconda3\\lib\\site-packages (from matplotlib->shapiq) (10.3.0)\n",
      "Requirement already satisfied: pyparsing>=2.3.1 in c:\\users\\saad\\anaconda3\\lib\\site-packages (from matplotlib->shapiq) (3.0.9)\n",
      "Requirement already satisfied: python-dateutil>=2.7 in c:\\users\\saad\\anaconda3\\lib\\site-packages (from matplotlib->shapiq) (2.9.0.post0)\n",
      "Requirement already satisfied: pytz>=2020.1 in c:\\users\\saad\\anaconda3\\lib\\site-packages (from pandas->shapiq) (2024.1)\n",
      "Requirement already satisfied: tzdata>=2022.7 in c:\\users\\saad\\anaconda3\\lib\\site-packages (from pandas->shapiq) (2023.3)\n",
      "Requirement already satisfied: charset-normalizer<4,>=2 in c:\\users\\saad\\anaconda3\\lib\\site-packages (from requests->shapiq) (2.0.4)\n",
      "Requirement already satisfied: idna<4,>=2.5 in c:\\users\\saad\\anaconda3\\lib\\site-packages (from requests->shapiq) (3.7)\n",
      "Requirement already satisfied: urllib3<3,>=1.21.1 in c:\\users\\saad\\anaconda3\\lib\\site-packages (from requests->shapiq) (2.2.2)\n",
      "Requirement already satisfied: certifi>=2017.4.17 in c:\\users\\saad\\anaconda3\\lib\\site-packages (from requests->shapiq) (2024.8.30)\n",
      "Requirement already satisfied: joblib>=1.2.0 in c:\\users\\saad\\anaconda3\\lib\\site-packages (from scikit-learn->shapiq) (1.4.2)\n",
      "Requirement already satisfied: threadpoolctl>=2.0.0 in c:\\users\\saad\\anaconda3\\lib\\site-packages (from scikit-learn->shapiq) (2.2.0)\n",
      "Requirement already satisfied: colorama in c:\\users\\saad\\anaconda3\\lib\\site-packages (from tqdm->shapiq) (0.4.6)\n",
      "Requirement already satisfied: six>=1.5 in c:\\users\\saad\\anaconda3\\lib\\site-packages (from python-dateutil>=2.7->matplotlib->shapiq) (1.16.0)\n",
      "Note: you may need to restart the kernel to use updated packages.\n"
     ]
    }
   ],
   "source": [
    "pip install --upgrade shapiq"
   ]
  },
  {
   "cell_type": "code",
   "execution_count": null,
   "id": "306d02a6-8edd-40f9-b07c-059219157c98",
   "metadata": {},
   "outputs": [],
   "source": [
    "import shapiq as spq\n",
    "import numpy as np\n",
    "import random"
   ]
  },
  {
   "cell_type": "markdown",
   "id": "74c77739-93d1-444c-a0a5-3011d018662c",
   "metadata": {},
   "source": [
    "Here, we define a predict function that will be used by the ShapIQ explainer to make predictions based on the trained model. \n",
    "This is the function that the explainer will call to compute the predicted values for specific input data."
   ]
  },
  {
   "cell_type": "code",
   "execution_count": null,
   "id": "7c57f9cd-3329-4d6b-8bb8-579c1eaa3ae7",
   "metadata": {},
   "outputs": [],
   "source": [
    "def predict(X):\n",
    "    return model.predict(X)"
   ]
  },
  {
   "cell_type": "markdown",
   "id": "efb0caa5-929d-4819-8b57-ad41b296328e",
   "metadata": {},
   "source": [
    "The TabularExplainer is the main class in ShapIQ for generating Shapley and interaction values.\n",
    "We pass in the predict function and X_train (training data) so that ShapIQ knows how to make predictions and what the model looks like.\n",
    "Index=\"SII\" is an identifier for the index/feature of your dataset. Max_order=2 specifies that the explainer will compute both first-order (Shapley) values and second-order interaction values. The max order determines how complex the interactions will be (1 for simple Shapley values, 2 for interactions between pairs of features)."
   ]
  },
  {
   "cell_type": "code",
   "execution_count": null,
   "id": "887599c4-1190-41bb-befc-6df0e71cec01",
   "metadata": {},
   "outputs": [],
   "source": [
    "explainer = spq.TabularExplainer(model=predict, data=X_train, index=\"SII\", max_order=2)"
   ]
  },
  {
   "cell_type": "markdown",
   "id": "f622ac83-8b74-45c4-87b9-8540c7d0e765",
   "metadata": {},
   "source": [
    "To speed up the computation (which can be very expensive), we are sampling a smaller subset of the test data (X_test). Instead of explaining all test samples, we are limiting it to a random subset of 500 (or fewer if the dataset is smaller). This step ensures we do not need to compute explanations for the entire test set, which could take a long time, especially if the dataset is large."
   ]
  },
  {
   "cell_type": "code",
   "execution_count": null,
   "id": "ed3e48ca-0bdb-4610-844d-0f9a74b65852",
   "metadata": {},
   "outputs": [],
   "source": [
    "sample_size = min(500, len(X_test))  # Reduce sample size\n",
    "X_test_sampled = X_test[random.sample(range(len(X_test)), sample_size)]"
   ]
  },
  {
   "cell_type": "markdown",
   "id": "e6797593-7caa-4f81-b18b-e0396e1d9f54",
   "metadata": {},
   "source": [
    "Here, we compute the Shapley values and interaction values for each sampled instance from X_test_sampled. x.reshape(1, -1) ensures each data point is passed as a 2D array (required for the explainer). explainer.explain(x) generates the Shapley values and interaction values for the input data x."
   ]
  },
  {
   "cell_type": "code",
   "execution_count": null,
   "id": "4a055ae6-8068-4717-bcca-034c7f04e1d0",
   "metadata": {},
   "outputs": [],
   "source": [
    "interaction_values_list = [explainer.explain(x.reshape(1, -1)) for x in X_test_sampled]"
   ]
  },
  {
   "cell_type": "markdown",
   "id": "ed68e2a6-15b7-409e-8857-630a3482fa68",
   "metadata": {},
   "source": [
    "For each explanation in interaction_values_list, we extract the first-order Shapley values using get_n_order_values(1). These values represent the individual contribution of each feature in the model’s prediction for the given instance. \n",
    "\n",
    "\n",
    "The Shapley value tells you how much each feature adds to the final prediction."
   ]
  },
  {
   "cell_type": "code",
   "execution_count": null,
   "id": "83684d35-b6ae-48c4-af83-911c9cb5298b",
   "metadata": {},
   "outputs": [],
   "source": [
    "shap_values = [iv.get_n_order_values(1) for iv in interaction_values_list]"
   ]
  },
  {
   "cell_type": "markdown",
   "id": "327a4524-1a73-4055-ba31-abc63caaad37",
   "metadata": {},
   "source": [
    "Here, we extract second-order interaction values using get_n_order_values(2). These values capture the interactions between pairs of features and how they jointly affect the prediction.\n",
    "\n",
    "Interaction values tells us how the combination of two features contributes to the final output, beyond the sum of their individual effects."
   ]
  },
  {
   "cell_type": "code",
   "execution_count": 139,
   "id": "af86b96c-5bc6-40ec-a612-8b18d9789867",
   "metadata": {},
   "outputs": [],
   "source": [
    "\n",
    "shap_interactions = [iv.get_n_order_values(2) for iv in interaction_values_list]\n"
   ]
  },
  {
   "cell_type": "markdown",
   "id": "fdabe634-cc5b-4d3b-bb4e-e76da994f5d6",
   "metadata": {},
   "source": [
    "# Visualizing the Results"
   ]
  },
  {
   "cell_type": "markdown",
   "id": "adda15bd-35d3-4170-880c-ba85030e1751",
   "metadata": {
    "jp-MarkdownHeadingCollapsed": true
   },
   "source": [
    "## Shapley Values -> Feature Importance"
   ]
  },
  {
   "cell_type": "markdown",
   "id": "e7fc8fe4-baef-4320-9077-086bd5a0165d",
   "metadata": {},
   "source": [
    "<span style=\"font-size: 18px;\">Shapley values are a concept from cooperative game theory that has been adapted for machine learning. In the context of a predictive model, a Shapley value represents the average contribution of a feature to the model's prediction for a given instance. It helps answer the question: \"How much did each feature contribute to this specific prediction?\"\n",
    "ShapIQ computes Shapley values efficiently for tabular data, making it easy to understand the influence of features on model predictions."
   ]
  },
  {
   "cell_type": "code",
   "execution_count": 140,
   "id": "3db29c69-4391-4a1f-b464-caabdab29123",
   "metadata": {},
   "outputs": [
    {
     "data": {
      "image/png": "[encoded data removed]",
      "text/plain": [
       "<Figure size 1000x600 with 1 Axes>"
      ]
     },
     "metadata": {},
     "output_type": "display_data"
    }
   ],
   "source": [
    "import numpy as np\n",
    "import matplotlib.pyplot as plt\n",
    "\n",
    "# Convert to NumPy array for easy manipulation\n",
    "shap_values_array = np.array(shap_values)\n",
    "\n",
    "# Compute mean absolute SHAP values\n",
    "mean_shap_values = np.mean(np.abs(shap_values_array), axis=0)\n",
    "\n",
    "# Plot\n",
    "plt.figure(figsize=(10, 6))\n",
    "plt.bar(range(len(mean_shap_values)), mean_shap_values, tick_label=data.feature_names)\n",
    "plt.xticks(rotation=45, ha='right')\n",
    "plt.xlabel(\"Features\")\n",
    "plt.ylabel(\"Mean Absolute Shapley Value\")\n",
    "plt.title(\"Feature Importance (Shapley Values)\")\n",
    "plt.show()\n"
   ]
  },
  {
   "cell_type": "markdown",
   "id": "0b33f887-266a-4319-8122-d535b99646c1",
   "metadata": {},
   "source": [
    "<span style=\"font-size: 18px;\">This bar plot shows that the highest shaply values (feature importance) in terms of predicting house prices belongs to latitude followed by longitude. This tells us that housing prices are dominated by its districts location. Median Income of District's residents and Average Rooms/Occupation also seem important. This naturally flows as affluent neighborhoods would have expensive homes and homes with higher accomodation capacity have higher prices on average."
   ]
  },
  {
   "cell_type": "markdown",
   "id": "f6c9fda0-cbaf-4e76-bcbf-60155c39b3fa",
   "metadata": {
    "jp-MarkdownHeadingCollapsed": true
   },
   "source": [
    "## Shapley Interactions"
   ]
  },
  {
   "cell_type": "code",
   "execution_count": 141,
   "id": "dfa22cba-ab8a-48c5-94a4-25937096a07e",
   "metadata": {},
   "outputs": [
    {
     "data": {
      "image/png": "[encoded data removed]",
      "text/plain": [
       "<Figure size 1000x800 with 2 Axes>"
      ]
     },
     "metadata": {},
     "output_type": "display_data"
    }
   ],
   "source": [
    "import seaborn as sns\n",
    "\n",
    "# Convert to NumPy array\n",
    "shap_interactions_array = np.array(shap_interactions)\n",
    "\n",
    "# Compute mean interaction values across all instances\n",
    "mean_shap_interactions = np.mean(np.abs(shap_interactions_array), axis=0)\n",
    "\n",
    "# Plot heatmap\n",
    "plt.figure(figsize=(10, 8))\n",
    "sns.heatmap(mean_shap_interactions, annot=True, fmt=\".2f\", xticklabels=data.feature_names, yticklabels=data.feature_names, cmap=\"coolwarm\")\n",
    "plt.title(\"Feature Interaction Heatmap\")\n",
    "plt.show()\n"
   ]
  },
  {
   "cell_type": "markdown",
   "id": "66f50521-84fe-4f6c-919d-0f8a6b80f3f0",
   "metadata": {},
   "source": [
    "<span style=\"font-size: 18px;\">Interaction values go beyond Shapley values by capturing the interactions between features. In other words, interaction values measure how the relationship between two features (or more) affects the model’s prediction, compared to when those features are treated independently.\n",
    "This is important because in many cases, features do not have a simple, linear effect on predictions. Instead, the way one feature interacts with another can have a significant impact.\n",
    "ShapIQ computes first-order (individual feature contributions) and higher-order (pairwise and more complex interactions) Shapley interaction values to give a deeper understanding of how features work together in the model."
   ]
  },
  {
   "cell_type": "markdown",
   "id": "5e6e7bff-ca64-4c41-974b-13292e6142f9",
   "metadata": {
    "jp-MarkdownHeadingCollapsed": true
   },
   "source": [
    "## Feature Interaction Network -> Visualization using Networkx library"
   ]
  },
  {
   "cell_type": "code",
   "execution_count": null,
   "id": "c9bc55fd-b941-42c0-bfb4-d147f3dae589",
   "metadata": {},
   "outputs": [],
   "source": [
    "import networkx as nx\n",
    "import numpy as np\n",
    "import matplotlib.pyplot as plt"
   ]
  },
  {
   "cell_type": "markdown",
   "id": "aacc7835-1af6-4cca-bb57-b9fcdb8b1f78",
   "metadata": {},
   "source": [
    "A new, empty graph G is created using the networkx library.\n",
    "\n",
    "The graph will represent features (as nodes) and the interactions between them (as edges)."
   ]
  },
  {
   "cell_type": "code",
   "execution_count": null,
   "id": "8850af21-3c33-4971-8405-44f108e90f84",
   "metadata": {},
   "outputs": [],
   "source": [
    "G = nx.Graph()\n",
    "\n",
    "# Add all features as node of the graph\n",
    "for feature in data.feature_names:\n",
    "    G.add_node(feature)"
   ]
  },
  {
   "cell_type": "markdown",
   "id": "31a4f356-cc5d-4906-954a-8814d4d1e3e9",
   "metadata": {},
   "source": [
    "The code calculates a threshold for SHAP interaction values. Specifically, it takes the 10th percentile of the mean_shap_interactions array. This means that the smallest 10% of interaction values are discarded, and only interactions with a value higher than this threshold will be included as edges in the graph."
   ]
  },
  {
   "cell_type": "code",
   "execution_count": null,
   "id": "53df3a03-194a-435c-9cee-2c299b28428a",
   "metadata": {},
   "outputs": [],
   "source": [
    "threshold = np.percentile(mean_shap_interactions, 10) "
   ]
  },
  {
   "cell_type": "markdown",
   "id": "d39a4e53-9296-4ae7-a61e-9fc407a95de8",
   "metadata": {},
   "source": [
    "The code iterates over all pairs of features (i, j), where i < j. For each pair, it retrieves the SHAP interaction value from mean_shap_interactions[i, j].\n",
    "If this interaction value exceeds the threshold, an edge is added between the two features (nodes) data.feature_names[i] and data.feature_names[j]. The edge is also assigned a weight attribute corresponding to the interaction value, which represents the strength of the interaction between those two features."
   ]
  },
  {
   "cell_type": "code",
   "execution_count": null,
   "id": "dcca3119-a2ef-43ac-ba1d-1b82050681d8",
   "metadata": {},
   "outputs": [],
   "source": [
    "for i in range(len(data.feature_names)):\n",
    "    for j in range(i + 1, len(data.feature_names)): \n",
    "        interaction_value = mean_shap_interactions[i, j]\n",
    "        if interaction_value > threshold:  # Only add edge if interaction is above threshold\n",
    "            G.add_edge(data.feature_names[i], data.feature_names[j], weight=interaction_value)"
   ]
  },
  {
   "cell_type": "markdown",
   "id": "3064995c-15a9-4609-93cf-4f757292ecb6",
   "metadata": {},
   "source": [
    "This line prints the list of edges in the graph, including the weight of each edge. Each edge represents an interaction between two features, and the weight corresponds to the strength of that interaction."
   ]
  },
  {
   "cell_type": "code",
   "execution_count": 142,
   "id": "81bebb47-e781-4372-b642-3a3ce9fd8e66",
   "metadata": {},
   "outputs": [
    {
     "name": "stdout",
     "output_type": "stream",
     "text": [
      "[('MedInc', 'HouseAge', {'weight': 0.05512152183138274}), ('MedInc', 'AveRooms', {'weight': 0.06796458060083181}), ('MedInc', 'AveBedrms', {'weight': 0.04249222011932754}), ('MedInc', 'Population', {'weight': 0.036072823696514975}), ('MedInc', 'AveOccup', {'weight': 0.1004110937661344}), ('MedInc', 'Latitude', {'weight': 0.07125865267471441}), ('MedInc', 'Longitude', {'weight': 0.07044223260100364}), ('HouseAge', 'AveRooms', {'weight': 0.02845571436667314}), ('HouseAge', 'Population', {'weight': 0.02592959270735135}), ('HouseAge', 'AveOccup', {'weight': 0.06418000754555596}), ('HouseAge', 'Latitude', {'weight': 0.04639626251790052}), ('HouseAge', 'Longitude', {'weight': 0.04497319743273112}), ('AveRooms', 'AveBedrms', {'weight': 0.04259894293218834}), ('AveRooms', 'AveOccup', {'weight': 0.03391856384053378}), ('AveRooms', 'Latitude', {'weight': 0.07588412524638252}), ('AveRooms', 'Longitude', {'weight': 0.06932849988050506}), ('AveBedrms', 'AveOccup', {'weight': 0.026617757575528523}), ('AveBedrms', 'Latitude', {'weight': 0.0343232834223108}), ('AveBedrms', 'Longitude', {'weight': 0.03755675461312823}), ('Population', 'Latitude', {'weight': 0.027230253199819646}), ('Population', 'Longitude', {'weight': 0.026552841567587575}), ('AveOccup', 'Latitude', {'weight': 0.0546011405594626}), ('AveOccup', 'Longitude', {'weight': 0.05216353067954128}), ('Latitude', 'Longitude', {'weight': 0.4866737923355758})]\n"
     ]
    }
   ],
   "source": [
    "print(G.edges(data=True))  # This should now show edges with weights"
   ]
  },
  {
   "cell_type": "code",
   "execution_count": 143,
   "id": "a0a5dafd-b681-485b-a378-402f0740d02d",
   "metadata": {},
   "outputs": [
    {
     "data": {
      "text/plain": [
       "0.02415050883041956"
      ]
     },
     "execution_count": 143,
     "metadata": {},
     "output_type": "execute_result"
    }
   ],
   "source": [
    "threshold"
   ]
  },
  {
   "cell_type": "markdown",
   "id": "6748bd62-3535-4e49-950c-69cdb780a394",
   "metadata": {},
   "source": [
    "**This line extracts the weights of the edges in the graph. nx.get_edge_attributes(G, \"weight\") gets a dictionary of edges and their corresponding weights. The zip operation separates the edges and their weights into two separate lists: edges and weights.**"
   ]
  },
  {
   "cell_type": "code",
   "execution_count": 144,
   "id": "3443dd24-d9d4-410f-9ef6-8ab1b88c11fa",
   "metadata": {},
   "outputs": [],
   "source": [
    "edges, weights = zip(*nx.get_edge_attributes(G, \"weight\").items()) if G.edges else ([], [])"
   ]
  },
  {
   "cell_type": "markdown",
   "id": "b8381c1d-fd37-4603-a326-f357042cf0e0",
   "metadata": {},
   "source": [
    "This calculates the layout of the graph nodes using the spring layout algorithm, which positions nodes in a way that reduces edge crossings and makes the graph more visually appealing."
   ]
  },
  {
   "cell_type": "code",
   "execution_count": null,
   "id": "f2ebcdcb-90bb-4310-8ac4-10f064e041ed",
   "metadata": {},
   "outputs": [],
   "source": [
    "plt.figure(figsize=(8, 6))\n",
    "pos = nx.spring_layout(G)  # Layout for visualization"
   ]
  },
  {
   "cell_type": "markdown",
   "id": "ab5fa440-57ba-4138-adaa-a01ee7edfe04",
   "metadata": {},
   "source": [
    "This line extracts the weights of the edges in the graph. nx.get_edge_attributes(G, \"weight\") gets a dictionary of edges and their corresponding weights. The zip(*...) operation separates the edges and their weights into two separate lists: edges and weights"
   ]
  },
  {
   "cell_type": "code",
   "execution_count": null,
   "id": "1f20fdbc-9d7b-4dcd-9432-a8507afab1b7",
   "metadata": {},
   "outputs": [],
   "source": [
    "edges, weights = zip(*nx.get_edge_attributes(G, \"weight\").items()) if G.edges else ([], [])"
   ]
  },
  {
   "cell_type": "markdown",
   "id": "0fc2fc3c-3098-4d53-92ab-cddb46cd37bc",
   "metadata": {},
   "source": [
    "nx.draw(...): This is the function used to draw the graph. It specifies:\n",
    "pos: the positions of the nodes.\n",
    "\n",
    "with_labels=True: labels the nodes with their names (feature names).\n",
    "\n",
    "node_color=\"lightblue\": sets the color of the nodes to light blue.\n",
    "\n",
    "edge_color=weights: colors the edges based on their weights (interaction values).\n",
    "\n",
    "width=2: sets the width of the edges.\n",
    "\n",
    "edge_cmap=plt.cm.Blues: applies a blue colormap to the edges based on their weights, with darker edges indicating stronger interactions.\n",
    "plt.title(\"Feature Interaction Network\"): Adds a title to the plot.\n",
    "\n",
    "plt.show(): Displays the graph."
   ]
  },
  {
   "cell_type": "code",
   "execution_count": 145,
   "id": "970ea0f2-8215-471d-a936-b3554f8388d6",
   "metadata": {},
   "outputs": [
    {
     "data": {
      "image/png": "[encoded data removed]",
      "text/plain": [
       "<Figure size 800x600 with 1 Axes>"
      ]
     },
     "metadata": {},
     "output_type": "display_data"
    }
   ],
   "source": [
    "nx.draw(G, pos, with_labels=True, node_color=\"lightblue\", edge_color=weights, width=2, edge_cmap=plt.cm.Blues)\n",
    "plt.title(\"Feature Interaction Network\")\n",
    "plt.show()\n"
   ]
  },
  {
   "cell_type": "markdown",
   "id": "2120dcbb-2dee-4f7b-8ae5-d576b8f33728",
   "metadata": {},
   "source": [
    "<span style=\"font-size: 18px;\"> The output is a visual representation of the feature interaction network, where:\n",
    "\n",
    "<span style=\"font-size: 18px;\">Each node represents a feature from the dataset.\n",
    "\n",
    "<span style=\"font-size: 18px;\">Each edge represents a pair of features with a significant interaction (based on the threshold determined from SHAP values).\n",
    "\n",
    "<span style=\"font-size: 18px;\">The edges' color intensity indicates the strength of the interaction: darker edges indicate stronger interactions.\n",
    "\n",
    "<span style=\"font-size: 18px;\">The size of the graph and layout ensure that features with strong interactions are more closely positioned.\n",
    "\n",
    "<span style=\"font-size: 18px;\">This visualization allows you to easily identify which features are interacting with each other and how strongly, providing insights into the relationships between features in your model based on SHAP interactions.\n",
    "\n",
    "<span style=\"font-size: 18px;\"> This graph illustrates how different features and interactions would shape our predictions."
   ]
  }
 ],
 "metadata": {
  "kernelspec": {
   "display_name": "Python 3 (ipykernel)",
   "language": "python",
   "name": "python3"
  },
  "language_info": {
   "codemirror_mode": {
    "name": "ipython",
    "version": 3
   },
   "file_extension": ".py",
   "mimetype": "text/x-python",
   "name": "python",
   "nbconvert_exporter": "python",
   "pygments_lexer": "ipython3",
   "version": "3.12.4"
  }
 },
 "nbformat": 4,
 "nbformat_minor": 5
}
